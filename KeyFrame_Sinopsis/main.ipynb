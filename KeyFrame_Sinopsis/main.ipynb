{
 "cells": [
  {
   "cell_type": "markdown",
   "metadata": {},
   "source": [
    "# KeyFrame Sinopsis\n",
    "\n",
    "If you have any question ask Pedro Martínez-Huertas:\n",
    "pedromarhuer03@gmail.com"
   ]
  },
  {
   "cell_type": "markdown",
   "metadata": {},
   "source": [
    "## Libraries"
   ]
  },
  {
   "cell_type": "code",
   "execution_count": 1,
   "metadata": {},
   "outputs": [],
   "source": [
    "import cv2\n",
    "import os\n",
    "from tqdm import tqdm\n",
    "import torch\n",
    "import torchvision.models as models\n",
    "import torchvision.transforms as transforms\n",
    "from PIL import Image\n",
    "import torch.nn.functional as F\n",
    "import numpy as np\n",
    "import matplotlib.pyplot as plt\n",
    "from scipy.spatial.distance import cdist\n",
    "from utils.grouping import grouping\n",
    "from utils.inference import yolo_prediction\n",
    "from utils.functions import clean_noise\n",
    "from utils.sinopsis import sinopsis, time_series\n",
    "from utils.video import video_to_frames, frames_to_video"
   ]
  },
  {
   "cell_type": "markdown",
   "metadata": {},
   "source": [
    "## Convert Video to Frames"
   ]
  },
  {
   "cell_type": "code",
   "execution_count": null,
   "metadata": {},
   "outputs": [],
   "source": [
    "video_path = \"Video.mp4\"\n",
    "\n",
    "#------------------------------------------------------------------------\n",
    "output_folder = \"Frames_video\"\n",
    "\n",
    "#------------------------------------------------------------------------\n",
    "video_to_frames(video_path, output_folder, prefix='frame', skip=1)"
   ]
  },
  {
   "cell_type": "markdown",
   "metadata": {},
   "source": [
    "## Clustering module"
   ]
  },
  {
   "cell_type": "code",
   "execution_count": null,
   "metadata": {},
   "outputs": [],
   "source": [
    "folder = 'Frames_video'\n",
    "\n",
    "#-----------------------------------------------------------------------------------------------\n",
    "# Technique used to construct the distance matrix\n",
    "# 1)rbf 2)cosine\n",
    "similarity = 'rbf'\n",
    "\n",
    "#-----------------------------------------------------------------------------------------------\n",
    "# Technique used for dimensional reduction\n",
    "# 1)MDS 2)FastMDS\n",
    "reducction = 'FastMDS'\n",
    "\n",
    "#-----------------------------------------------------------------------------------------------\n",
    "# Technique used for clustering\n",
    "# 1)KMEANS 2)HDBSCAN\n",
    "clustering = 'HDBSCAN'\n",
    "\n",
    "#-----------------------------------------------------------------------------------------------\n",
    "# Function\n",
    "# Parameters\n",
    "# n_clusters=2\n",
    "#    plot_similitud=False------- to plot similarity matrix\n",
    "#    plot_reduction=False------- to plot reduction map\n",
    "#    plot_clustering=False------ to plot clustering map\n",
    "#    plot_images=False---------- to plot representative images from clusters\n",
    "df = grouping(folder,similarity,reducction,clustering,\n",
    "              n_clusters=2,plot_similitud=False,plot_reduction=False,plot_clustering=True,plot_images=True)"
   ]
  },
  {
   "cell_type": "code",
   "execution_count": null,
   "metadata": {},
   "outputs": [],
   "source": [
    "#Optional: Clean noise (unlabeled images)\n",
    "df = clean_noise(df)"
   ]
  },
  {
   "cell_type": "markdown",
   "metadata": {},
   "source": [
    "## Prediction module"
   ]
  },
  {
   "cell_type": "code",
   "execution_count": null,
   "metadata": {},
   "outputs": [],
   "source": [
    "#---------------------------------------------------------------------------------------------\n",
    "model_path = \"model.pt\"\n",
    "\n",
    "#----------------------------------------------------------------------------------------------\n",
    "# Images folder\n",
    "input = \"Frames_video\"\n",
    "\n",
    "#-----------------------------------------------------------------------------------------------\n",
    "#Prediction folder\n",
    "output = \"Frames_video_predicted\"\n",
    "\n",
    "#-----------------------------------------------------------------------------------------------\n",
    "# Filter for the images to be predicted\n",
    "# None: all classes\n",
    "filter = [1,3,4,8]\n",
    "#Threshold for the confidence of the prediction (0-1)\n",
    "threshold = 0.2\n",
    "\n",
    "#-----------------------------------------------------------------------------------------------\n",
    "#Creates the output folder and a DataFrame with the predictions and frame evaluation\n",
    "df_inferenced = yolo_prediction(df,model_path,input,output,filter,conf_threshold=threshold)"
   ]
  },
  {
   "cell_type": "markdown",
   "metadata": {},
   "source": [
    "## Fusion module"
   ]
  },
  {
   "cell_type": "code",
   "execution_count": null,
   "metadata": {},
   "outputs": [],
   "source": [
    "yolo_folder = \"Frames_video_predicted\"\n",
    "\n",
    "output_folder = \"Frames_video_sinopsis\"\n",
    "\n",
    "#-----------------------------------------------------------------------------------------------\n",
    "# Return a list of frames and makes a folder with the sinopsis frames\n",
    "#Parameters\n",
    "#    plot_series=False-------- to plot the time series\n",
    "#    plot_frames=True--------- to plot the sinopsis frames with the predictions\n",
    "\n",
    "frames = sinopsis(df_inferenced, yolo_folder,output_folder, plot_series=True, plot_frames=True)"
   ]
  },
  {
   "cell_type": "markdown",
   "metadata": {},
   "source": [
    "## Sinopsis Video"
   ]
  },
  {
   "cell_type": "code",
   "execution_count": null,
   "metadata": {},
   "outputs": [],
   "source": [
    "# Sinopsis frames folder\n",
    "frames_folder = \"Frames_video_sinopsis\"    \n",
    "\n",
    "#-----------------------------------------------------------------------------------------------\n",
    "# Video path\n",
    "output_video   = \"Video_Sinopsis.mp4\"                \n",
    "\n",
    "#-----------------------------------------------------------------------------------------------\n",
    "# Frames per second for the video (Real time:30fps)\n",
    "fps= 30                                         \n",
    "\n",
    "#-----------------------------------------------------------------------------------------------\n",
    "frames_to_video(frames_folder, output_video, fps=fps, prefix=\"frame\")"
   ]
  }
 ],
 "metadata": {
  "kernelspec": {
   "display_name": "Python 3",
   "language": "python",
   "name": "python3"
  },
  "language_info": {
   "codemirror_mode": {
    "name": "ipython",
    "version": 3
   },
   "file_extension": ".py",
   "mimetype": "text/x-python",
   "name": "python",
   "nbconvert_exporter": "python",
   "pygments_lexer": "ipython3",
   "version": "3.12.0"
  }
 },
 "nbformat": 4,
 "nbformat_minor": 2
}
