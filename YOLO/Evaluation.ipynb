{
 "cells": [
  {
   "cell_type": "markdown",
   "metadata": {},
   "source": [
    "# Evaluation YOLO model"
   ]
  },
  {
   "cell_type": "markdown",
   "metadata": {},
   "source": [
    "## Libraries"
   ]
  },
  {
   "cell_type": "code",
   "execution_count": null,
   "metadata": {},
   "outputs": [],
   "source": [
    "import os\n",
    "import tempfile\n",
    "import yaml\n",
    "from ultralytics import YOLO"
   ]
  },
  {
   "cell_type": "markdown",
   "metadata": {},
   "source": [
    "## Evaluation on a folder"
   ]
  },
  {
   "cell_type": "code",
   "execution_count": null,
   "metadata": {},
   "outputs": [],
   "source": [
    "def evaluate_model(weights_path: str,\n",
    "                   images_path: str,\n",
    "                   labels_path: str,\n",
    "                   class_names: dict,\n",
    "                   iou_threshold: float = 0.6):\n",
    "    \"\"\"\n",
    "    Validates a YOLO model using a temporary YAML file generated on the fly.\n",
    "\n",
    "    weights_path : path to the .pt model\n",
    "    images_path  : folder containing test images        (…/dataset/images/test)\n",
    "    labels_path  : folder containing test .txt labels   (…/dataset/labels/test)\n",
    "    class_names  : {id: class_name}\n",
    "    \"\"\"\n",
    "\n",
    "    # ---------- 1) Basic checks ----------\n",
    "    if not os.path.isdir(images_path):\n",
    "        raise FileNotFoundError(f\"Image folder does not exist: {images_path}\")\n",
    "    if not os.path.isdir(labels_path):\n",
    "        raise FileNotFoundError(f\"Label folder does not exist: {labels_path}\")\n",
    "\n",
    "    # ---------- 2) Dataset root ----------\n",
    "    # (two levels above the images_path → …/dataset)\n",
    "    dataset_root = os.path.abspath(os.path.join(images_path, os.pardir, os.pardir))\n",
    "\n",
    "    # ---------- 3) YAML construction ----------\n",
    "    # Ultralytics only needs the image folders. It automatically looks for the .txt files in 'labels/'.\n",
    "    data_yaml = {\n",
    "        \"path\": dataset_root.replace(\"\\\\\", \"/\"),   # absolute path, no backslashes\n",
    "        \"train\": \"images/train\",                   # ✓ must exist even if unused (can be empty)\n",
    "        \"val\":   \"images/test\",\n",
    "        \"test\":  \"images/test\",\n",
    "        \"names\": class_names\n",
    "    }\n",
    "\n",
    "    # ---------- 4) Save temporary YAML ----------\n",
    "    with tempfile.NamedTemporaryFile(mode=\"w\", suffix=\".yaml\", delete=False) as f:\n",
    "        yaml.dump(data_yaml, f, sort_keys=False)\n",
    "        tmp_yaml_path = f.name\n",
    "\n",
    "    try:\n",
    "        # ---------- 5) Validation ----------\n",
    "        model = YOLO(weights_path)\n",
    "        results = model.val(data=tmp_yaml_path, iou=iou_threshold)\n",
    "\n",
    "    finally:\n",
    "        # ---------- 6) Cleanup ----------\n",
    "        os.remove(tmp_yaml_path)\n",
    "\n",
    "\n",
    "# ----------------------------- USAGE EXAMPLE -----------------------------\n",
    "\n",
    "WEIGHTS     = \"model.pt\"\n",
    "IMAGES_TEST = \"dataset/images/test\"\n",
    "LABELS_TEST = \"dataset/labels/test\"\n",
    "CLASS_NAMES = {\n",
    "    0: \"class_0\",\n",
    "    1: \"class_1\",\n",
    "    2: \"class_2\",\n",
    "    3: \"class_3\",\n",
    "    4: \"class_4\",\n",
    "    5: \"class_5\",\n",
    "    6: \"class_6\",\n",
    "    7: \"class_7\",\n",
    "    8: \"class_8\",\n",
    "    9: \"class_9\",\n",
    "    }\n",
    "\n",
    "\n",
    "#-------------------------------------------------------------------------\n",
    "# Generates a folder called runs/val/ in the current working directory\n",
    "# containing the results of the validation.\n",
    "evaluate_model(WEIGHTS, IMAGES_TEST, LABELS_TEST, CLASS_NAMES)\n"
   ]
  }
 ],
 "metadata": {
  "kernelspec": {
   "display_name": "Python 3",
   "language": "python",
   "name": "python3"
  },
  "language_info": {
   "codemirror_mode": {
    "name": "ipython",
    "version": 3
   },
   "file_extension": ".py",
   "mimetype": "text/x-python",
   "name": "python",
   "nbconvert_exporter": "python",
   "pygments_lexer": "ipython3",
   "version": "3.12.0"
  }
 },
 "nbformat": 4,
 "nbformat_minor": 2
}
