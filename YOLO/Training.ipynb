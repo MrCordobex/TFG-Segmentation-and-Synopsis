{
 "cells": [
  {
   "cell_type": "markdown",
   "metadata": {},
   "source": [
    "# Training YOLO"
   ]
  },
  {
   "cell_type": "markdown",
   "metadata": {},
   "source": [
    "## Libraries"
   ]
  },
  {
   "cell_type": "code",
   "execution_count": 2,
   "metadata": {},
   "outputs": [],
   "source": [
    "import yaml\n",
    "from ultralytics import YOLO"
   ]
  },
  {
   "cell_type": "markdown",
   "metadata": {},
   "source": [
    "## Generate .yaml"
   ]
  },
  {
   "cell_type": "code",
   "execution_count": null,
   "metadata": {},
   "outputs": [],
   "source": [
    "import yaml\n",
    "\n",
    "# Dataset configuration for training with YOLO\n",
    "# This dictionary will be converted into a YAML file, which YOLO uses to:\n",
    "# - locate training, validation, and test images,\n",
    "# - define dataset structure,\n",
    "# - and map class indices to readable names.\n",
    "\n",
    "data = {\n",
    "    # Root path to the dataset (can be relative or absolute).\n",
    "    'path': 'dataset',  # Root directory containing 'images' and 'labels' subfolders\n",
    "\n",
    "    # Subfolder with training images (relative to 'path').\n",
    "    'train': 'images/train',\n",
    "\n",
    "    # Subfolder with validation images (relative to 'path').\n",
    "    'val': 'images/val',\n",
    "\n",
    "    # Subfolder with test images (relative to 'path'). Optional but recommended.\n",
    "    'test': 'images/test',\n",
    "\n",
    "    # Dictionary mapping class indices to human-readable names.\n",
    "    # Ensure that these match the order used in your YOLO label files.\n",
    "    'names': {\n",
    "        0: 'class_0',\n",
    "        1: 'class_1',\n",
    "        2: 'class_2',\n",
    "        3: 'class_3',\n",
    "        4: 'class_4',\n",
    "        5: 'class_5',\n",
    "        6: 'class_6',\n",
    "        7: 'class_7',\n",
    "        8: 'class_8',\n",
    "        9: 'class_9'\n",
    "    }\n",
    "}\n",
    "\n",
    "# Path where the YAML configuration file will be saved\n",
    "output_path = 'dataset/data.yaml'\n",
    "\n",
    "# Write the configuration to a YAML file\n",
    "with open(output_path, 'w') as file:\n",
    "    yaml.dump(data, file,\n",
    "              default_flow_style=False,  # Each key on a separate line (more readable)\n",
    "              sort_keys=False)           # Preserve the original order of keys\n",
    "print(f\"YAML configuration file created at: {output_path}\")"
   ]
  },
  {
   "cell_type": "code",
   "execution_count": null,
   "metadata": {},
   "outputs": [],
   "source": [
    "# 1. Load the YOLO model pre-trained on COCO dataset\n",
    "model = YOLO(\"yolo11n-seg.pt\")\n",
    "\n",
    "# 2. Train the model using the dataset defined in the YAML file\n",
    "results = model.train(data=\"dataset_procesado/data.yaml\",\n",
    "                      epochs=40, # Number of epochs to train\n",
    "                      imgsz=640, # Image size for training\n",
    "                      plots=True# Whether to plot training results\n",
    "                      )"
   ]
  }
 ],
 "metadata": {
  "kernelspec": {
   "display_name": "Python 3",
   "language": "python",
   "name": "python3"
  },
  "language_info": {
   "codemirror_mode": {
    "name": "ipython",
    "version": 3
   },
   "file_extension": ".py",
   "mimetype": "text/x-python",
   "name": "python",
   "nbconvert_exporter": "python",
   "pygments_lexer": "ipython3",
   "version": "3.12.0"
  }
 },
 "nbformat": 4,
 "nbformat_minor": 2
}
